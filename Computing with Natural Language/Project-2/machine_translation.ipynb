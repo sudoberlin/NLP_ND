{
 "cells": [
  {
   "cell_type": "markdown",
   "metadata": {
    "collapsed": true
   },
   "source": [
    "# Artificial Intelligence Nanodegree\n",
    "## Machine Translation Project\n",
    "In this notebook, sections that end with **'(IMPLEMENTATION)'** in the header indicate that the following blocks of code will require additional functionality which you must provide. Please be sure to read the instructions carefully!\n",
    "\n",
    "## Introduction\n",
    "In this notebook, you will build a deep neural network that functions as part of an end-to-end machine translation pipeline. Your completed pipeline will accept English text as input and return the French translation.\n",
    "\n",
    "- **Preprocess** - You'll convert text to sequence of integers.\n",
    "- **Models** Create models which accepts a sequence of integers as input and returns a probability distribution over possible translations. After learning about the basic types of neural networks that are often used for machine translation, you will engage in your own investigations, to design your own model!\n",
    "- **Prediction** Run the model on English text."
   ]
  },
  {
   "cell_type": "code",
   "execution_count": 2,
   "metadata": {},
   "outputs": [],
   "source": [
    "%load_ext autoreload\n",
    "%aimport helper, tests\n",
    "%autoreload 1"
   ]
  },
  {
   "cell_type": "code",
   "execution_count": 3,
   "metadata": {},
   "outputs": [
    {
     "name": "stderr",
     "output_type": "stream",
     "text": [
      "Using TensorFlow backend.\n"
     ]
    }
   ],
   "source": [
    "import collections\n",
    "\n",
    "import helper\n",
    "import numpy as np\n",
    "import project_tests as tests\n",
    "\n",
    "from keras.models import Sequential\n",
    "from keras.preprocessing.text import Tokenizer\n",
    "from keras.preprocessing.sequence import pad_sequences\n",
    "from keras.models import Model\n",
    "from keras.layers import GRU, Input, Dense, TimeDistributed, Activation, RepeatVector, Bidirectional\n",
    "from keras.layers.embeddings import Embedding\n",
    "from keras.optimizers import Adam\n",
    "from keras.losses import sparse_categorical_crossentropy"
   ]
  },
  {
   "cell_type": "markdown",
   "metadata": {},
   "source": [
    "### Verify access to the GPU\n",
    "The following test applies only if you expect to be using a GPU, e.g., while running in a Udacity Workspace or using an AWS instance with GPU support. Run the next cell, and verify that the device_type is \"GPU\".\n",
    "- If the device is not GPU & you are running from a Udacity Workspace, then save your workspace with the icon at the top, then click \"enable\" at the bottom of the workspace.\n",
    "- If the device is not GPU & you are running from an AWS instance, then refer to the cloud computing instructions in the classroom to verify your setup steps."
   ]
  },
  {
   "cell_type": "code",
   "execution_count": 4,
   "metadata": {},
   "outputs": [
    {
     "name": "stdout",
     "output_type": "stream",
     "text": [
      "[name: \"/cpu:0\"\n",
      "device_type: \"CPU\"\n",
      "memory_limit: 268435456\n",
      "locality {\n",
      "}\n",
      "incarnation: 7721336123228865274\n",
      ", name: \"/gpu:0\"\n",
      "device_type: \"GPU\"\n",
      "memory_limit: 357433344\n",
      "locality {\n",
      "  bus_id: 1\n",
      "}\n",
      "incarnation: 3870196505097376007\n",
      "physical_device_desc: \"device: 0, name: Tesla K80, pci bus id: 0000:00:04.0\"\n",
      "]\n"
     ]
    }
   ],
   "source": [
    "from tensorflow.python.client import device_lib\n",
    "print(device_lib.list_local_devices())"
   ]
  },
  {
   "cell_type": "markdown",
   "metadata": {},
   "source": [
    "## Dataset\n",
    "We begin by investigating the dataset that will be used to train and evaluate your pipeline.  The most common datasets used for machine translation are from [WMT](http://www.statmt.org/).  However, that will take a long time to train a neural network on.  We'll be using a dataset we created for this project that contains a small vocabulary.  You'll be able to train your model in a reasonable time with this dataset.\n",
    "### Load Data\n",
    "The data is located in `data/small_vocab_en` and `data/small_vocab_fr`. The `small_vocab_en` file contains English sentences with their French translations in the `small_vocab_fr` file. Load the English and French data from these files from running the cell below."
   ]
  },
  {
   "cell_type": "code",
   "execution_count": 5,
   "metadata": {},
   "outputs": [
    {
     "name": "stdout",
     "output_type": "stream",
     "text": [
      "Dataset Loaded\n"
     ]
    }
   ],
   "source": [
    "# Load English data\n",
    "english_sentences = helper.load_data('data/small_vocab_en')\n",
    "# Load French data\n",
    "french_sentences = helper.load_data('data/small_vocab_fr')\n",
    "\n",
    "print('Dataset Loaded')"
   ]
  },
  {
   "cell_type": "markdown",
   "metadata": {},
   "source": [
    "### Files\n",
    "Each line in `small_vocab_en` contains an English sentence with the respective translation in each line of `small_vocab_fr`.  View the first two lines from each file."
   ]
  },
  {
   "cell_type": "code",
   "execution_count": 6,
   "metadata": {},
   "outputs": [
    {
     "name": "stdout",
     "output_type": "stream",
     "text": [
      "small_vocab_en Line 1:  new jersey is sometimes quiet during autumn , and it is snowy in april .\n",
      "small_vocab_fr Line 1:  new jersey est parfois calme pendant l' automne , et il est neigeux en avril .\n",
      "small_vocab_en Line 2:  the united states is usually chilly during july , and it is usually freezing in november .\n",
      "small_vocab_fr Line 2:  les états-unis est généralement froid en juillet , et il gèle habituellement en novembre .\n"
     ]
    }
   ],
   "source": [
    "for sample_i in range(2):\n",
    "    print('small_vocab_en Line {}:  {}'.format(sample_i + 1, english_sentences[sample_i]))\n",
    "    print('small_vocab_fr Line {}:  {}'.format(sample_i + 1, french_sentences[sample_i]))"
   ]
  },
  {
   "cell_type": "markdown",
   "metadata": {},
   "source": [
    "From looking at the sentences, you can see they have been preprocessed already.  The puncuations have been delimited using spaces. All the text have been converted to lowercase.  This should save you some time, but the text requires more preprocessing.\n",
    "### Vocabulary\n",
    "The complexity of the problem is determined by the complexity of the vocabulary.  A more complex vocabulary is a more complex problem.  Let's look at the complexity of the dataset we'll be working with."
   ]
  },
  {
   "cell_type": "code",
   "execution_count": 7,
   "metadata": {},
   "outputs": [
    {
     "name": "stdout",
     "output_type": "stream",
     "text": [
      "1823250 English words.\n",
      "227 unique English words.\n",
      "10 Most common words in the English dataset:\n",
      "\"is\" \",\" \".\" \"in\" \"it\" \"during\" \"the\" \"but\" \"and\" \"sometimes\"\n",
      "\n",
      "1961295 French words.\n",
      "355 unique French words.\n",
      "10 Most common words in the French dataset:\n",
      "\"est\" \".\" \",\" \"en\" \"il\" \"les\" \"mais\" \"et\" \"la\" \"parfois\"\n"
     ]
    }
   ],
   "source": [
    "english_words_counter = collections.Counter([word for sentence in english_sentences for word in sentence.split()])\n",
    "french_words_counter = collections.Counter([word for sentence in french_sentences for word in sentence.split()])\n",
    "\n",
    "print('{} English words.'.format(len([word for sentence in english_sentences for word in sentence.split()])))\n",
    "print('{} unique English words.'.format(len(english_words_counter)))\n",
    "print('10 Most common words in the English dataset:')\n",
    "print('\"' + '\" \"'.join(list(zip(*english_words_counter.most_common(10)))[0]) + '\"')\n",
    "print()\n",
    "print('{} French words.'.format(len([word for sentence in french_sentences for word in sentence.split()])))\n",
    "print('{} unique French words.'.format(len(french_words_counter)))\n",
    "print('10 Most common words in the French dataset:')\n",
    "print('\"' + '\" \"'.join(list(zip(*french_words_counter.most_common(10)))[0]) + '\"')"
   ]
  },
  {
   "cell_type": "markdown",
   "metadata": {},
   "source": [
    "For comparison, _Alice's Adventures in Wonderland_ contains 2,766 unique words of a total of 15,500 words.\n",
    "## Preprocess\n",
    "For this project, you won't use text data as input to your model. Instead, you'll convert the text into sequences of integers using the following preprocess methods:\n",
    "1. Tokenize the words into ids\n",
    "2. Add padding to make all the sequences the same length.\n",
    "\n",
    "Time to start preprocessing the data...\n",
    "### Tokenize (IMPLEMENTATION)\n",
    "For a neural network to predict on text data, it first has to be turned into data it can understand. Text data like \"dog\" is a sequence of ASCII character encodings.  Since a neural network is a series of multiplication and addition operations, the input data needs to be number(s).\n",
    "\n",
    "We can turn each character into a number or each word into a number.  These are called character and word ids, respectively.  Character ids are used for character level models that generate text predictions for each character.  A word level model uses word ids that generate text predictions for each word.  Word level models tend to learn better, since they are lower in complexity, so we'll use those.\n",
    "\n",
    "Turn each sentence into a sequence of words ids using Keras's [`Tokenizer`](https://keras.io/preprocessing/text/#tokenizer) function. Use this function to tokenize `english_sentences` and `french_sentences` in the cell below.\n",
    "\n",
    "Running the cell will run `tokenize` on sample data and show output for debugging."
   ]
  },
  {
   "cell_type": "code",
   "execution_count": 8,
   "metadata": {},
   "outputs": [
    {
     "name": "stdout",
     "output_type": "stream",
     "text": [
      "{'the': 1, 'quick': 2, 'a': 3, 'brown': 4, 'fox': 5, 'jumps': 6, 'over': 7, 'lazy': 8, 'dog': 9, 'by': 10, 'jove': 11, 'my': 12, 'study': 13, 'of': 14, 'lexicography': 15, 'won': 16, 'prize': 17, 'this': 18, 'is': 19, 'short': 20, 'sentence': 21}\n",
      "\n",
      "Sequence 1 in x\n",
      "  Input:  The quick brown fox jumps over the lazy dog .\n",
      "  Output: [1, 2, 4, 5, 6, 7, 1, 8, 9]\n",
      "Sequence 2 in x\n",
      "  Input:  By Jove , my quick study of lexicography won a prize .\n",
      "  Output: [10, 11, 12, 2, 13, 14, 15, 16, 3, 17]\n",
      "Sequence 3 in x\n",
      "  Input:  This is a short sentence .\n",
      "  Output: [18, 19, 3, 20, 21]\n"
     ]
    }
   ],
   "source": [
    "def tokenize(x):\n",
    "    \"\"\"\n",
    "    Tokenize x\n",
    "    :param x: List of sentences/strings to be tokenized\n",
    "    :return: Tuple of (tokenized x data, tokenizer used to tokenize x)\n",
    "    \"\"\"\n",
    "    tokenize_x = Tokenizer()\n",
    "    tokenize_x.fit_on_texts(x)\n",
    "    return tokenize_x.texts_to_sequences(x), tokenize_x\n",
    "\n",
    "tests.test_tokenize(tokenize)\n",
    "\n",
    "# Tokenize Example output\n",
    "text_sentences = [\n",
    "    'The quick brown fox jumps over the lazy dog .',\n",
    "    'By Jove , my quick study of lexicography won a prize .',\n",
    "    'This is a short sentence .']\n",
    "text_tokenized, text_tokenizer = tokenize(text_sentences)\n",
    "print(text_tokenizer.word_index)\n",
    "print()\n",
    "for sample_i, (sent, token_sent) in enumerate(zip(text_sentences, text_tokenized)):\n",
    "    print('Sequence {} in x'.format(sample_i + 1))\n",
    "    print('  Input:  {}'.format(sent))\n",
    "    print('  Output: {}'.format(token_sent))"
   ]
  },
  {
   "cell_type": "markdown",
   "metadata": {},
   "source": [
    "### Padding (IMPLEMENTATION)\n",
    "When batching the sequence of word ids together, each sequence needs to be the same length.  Since sentences are dynamic in length, we can add padding to the end of the sequences to make them the same length.\n",
    "\n",
    "Make sure all the English sequences have the same length and all the French sequences have the same length by adding padding to the **end** of each sequence using Keras's [`pad_sequences`](https://keras.io/preprocessing/sequence/#pad_sequences) function."
   ]
  },
  {
   "cell_type": "code",
   "execution_count": 9,
   "metadata": {},
   "outputs": [
    {
     "name": "stdout",
     "output_type": "stream",
     "text": [
      "Sequence 1 in x\n",
      "  Input:  [1 2 4 5 6 7 1 8 9]\n",
      "  Output: [1 2 4 5 6 7 1 8 9 0]\n",
      "Sequence 2 in x\n",
      "  Input:  [10 11 12  2 13 14 15 16  3 17]\n",
      "  Output: [10 11 12  2 13 14 15 16  3 17]\n",
      "Sequence 3 in x\n",
      "  Input:  [18 19  3 20 21]\n",
      "  Output: [18 19  3 20 21  0  0  0  0  0]\n"
     ]
    }
   ],
   "source": [
    "def pad(x, length=None):\n",
    "    \"\"\"\n",
    "    Pad x\n",
    "    :param x: List of sequences.\n",
    "    :param length: Length to pad the sequence to.  If None, use length of longest sequence in x.\n",
    "    :return: Padded numpy array of sequences\n",
    "    \"\"\"\n",
    "    # longest string in dataset\n",
    "    if length == None:\n",
    "        length = max([len(words) for words in x])\n",
    "    # add padding(at end)\n",
    "    padded_sequence = pad_sequences(x, length, padding = 'post')\n",
    "    return padded_sequence\n",
    "\n",
    "tests.test_pad(pad)\n",
    "\n",
    "# Pad Tokenized output\n",
    "test_pad = pad(text_tokenized)\n",
    "for sample_i, (token_sent, pad_sent) in enumerate(zip(text_tokenized, test_pad)):\n",
    "    print('Sequence {} in x'.format(sample_i + 1))\n",
    "    print('  Input:  {}'.format(np.array(token_sent)))\n",
    "    print('  Output: {}'.format(pad_sent))"
   ]
  },
  {
   "cell_type": "markdown",
   "metadata": {},
   "source": [
    "### Preprocess Pipeline\n",
    "Your focus for this project is to build neural network architecture, so we won't ask you to create a preprocess pipeline.  Instead, we've provided you with the implementation of the `preprocess` function."
   ]
  },
  {
   "cell_type": "code",
   "execution_count": 10,
   "metadata": {},
   "outputs": [
    {
     "name": "stdout",
     "output_type": "stream",
     "text": [
      "Data Preprocessed\n",
      "Max English sentence length: 15\n",
      "Max French sentence length: 21\n",
      "English vocabulary size: 199\n",
      "French vocabulary size: 344\n"
     ]
    }
   ],
   "source": [
    "def preprocess(x, y):\n",
    "    \"\"\"\n",
    "    Preprocess x and y\n",
    "    :param x: Feature List of sentences\n",
    "    :param y: Label List of sentences\n",
    "    :return: Tuple of (Preprocessed x, Preprocessed y, x tokenizer, y tokenizer)\n",
    "    \"\"\"\n",
    "    preprocess_x, x_tk = tokenize(x)\n",
    "    preprocess_y, y_tk = tokenize(y)\n",
    "\n",
    "    preprocess_x = pad(preprocess_x)\n",
    "    preprocess_y = pad(preprocess_y)\n",
    "\n",
    "    # Keras's sparse_categorical_crossentropy function requires the labels to be in 3 dimensions\n",
    "    preprocess_y = preprocess_y.reshape(*preprocess_y.shape, 1)\n",
    "\n",
    "    return preprocess_x, preprocess_y, x_tk, y_tk\n",
    "\n",
    "preproc_english_sentences, preproc_french_sentences, english_tokenizer, french_tokenizer =\\\n",
    "    preprocess(english_sentences, french_sentences)\n",
    "    \n",
    "max_english_sequence_length = preproc_english_sentences.shape[1]\n",
    "max_french_sequence_length = preproc_french_sentences.shape[1]\n",
    "english_vocab_size = len(english_tokenizer.word_index)\n",
    "french_vocab_size = len(french_tokenizer.word_index)\n",
    "\n",
    "print('Data Preprocessed')\n",
    "print(\"Max English sentence length:\", max_english_sequence_length)\n",
    "print(\"Max French sentence length:\", max_french_sequence_length)\n",
    "print(\"English vocabulary size:\", english_vocab_size)\n",
    "print(\"French vocabulary size:\", french_vocab_size)"
   ]
  },
  {
   "cell_type": "markdown",
   "metadata": {},
   "source": [
    "## Models\n",
    "In this section, you will experiment with various neural network architectures.\n",
    "You will begin by training four relatively simple architectures.\n",
    "- Model 1 is a simple RNN\n",
    "- Model 2 is a RNN with Embedding\n",
    "- Model 3 is a Bidirectional RNN\n",
    "- Model 4 is an optional Encoder-Decoder RNN\n",
    "\n",
    "After experimenting with the four simple architectures, you will construct a deeper architecture that is designed to outperform all four models.\n",
    "### Ids Back to Text\n",
    "The neural network will be translating the input to words ids, which isn't the final form we want.  We want the French translation.  The function `logits_to_text` will bridge the gab between the logits from the neural network to the French translation.  You'll be using this function to better understand the output of the neural network."
   ]
  },
  {
   "cell_type": "code",
   "execution_count": 11,
   "metadata": {},
   "outputs": [
    {
     "name": "stdout",
     "output_type": "stream",
     "text": [
      "`logits_to_text` function loaded.\n"
     ]
    }
   ],
   "source": [
    "def logits_to_text(logits, tokenizer):\n",
    "    \"\"\"\n",
    "    Turn logits from a neural network into text using the tokenizer\n",
    "    :param logits: Logits from a neural network\n",
    "    :param tokenizer: Keras Tokenizer fit on the labels\n",
    "    :return: String that represents the text of the logits\n",
    "    \"\"\"\n",
    "    index_to_words = {id: word for word, id in tokenizer.word_index.items()}\n",
    "    index_to_words[0] = '<PAD>'\n",
    "\n",
    "    return ' '.join([index_to_words[prediction] for prediction in np.argmax(logits, 1)])\n",
    "\n",
    "print('`logits_to_text` function loaded.')"
   ]
  },
  {
   "cell_type": "markdown",
   "metadata": {},
   "source": [
    "### Model 1: RNN (IMPLEMENTATION)\n",
    "![RNN](images/rnn.png)\n",
    "A basic RNN model is a good baseline for sequence data.  In this model, you'll build a RNN that translates English to French."
   ]
  },
  {
   "cell_type": "code",
   "execution_count": 12,
   "metadata": {},
   "outputs": [
    {
     "name": "stdout",
     "output_type": "stream",
     "text": [
      "Train on 110288 samples, validate on 27573 samples\n",
      "Epoch 1/10\n",
      "110288/110288 [==============================] - 12s 108us/step - loss: 1.6922 - acc: 0.5797 - val_loss: 1.2273 - val_acc: 0.6352\n",
      "Epoch 2/10\n",
      "110288/110288 [==============================] - 10s 91us/step - loss: 1.1169 - acc: 0.6587 - val_loss: 1.0504 - val_acc: 0.6585\n",
      "Epoch 3/10\n",
      "110288/110288 [==============================] - 10s 91us/step - loss: 0.9934 - acc: 0.6785 - val_loss: 0.9566 - val_acc: 0.6784\n",
      "Epoch 4/10\n",
      "110288/110288 [==============================] - 10s 91us/step - loss: 0.9251 - acc: 0.6935 - val_loss: 0.8786 - val_acc: 0.7093\n",
      "Epoch 5/10\n",
      "110288/110288 [==============================] - 10s 91us/step - loss: 0.8696 - acc: 0.7058 - val_loss: 0.8452 - val_acc: 0.7152\n",
      "Epoch 6/10\n",
      "110288/110288 [==============================] - 10s 91us/step - loss: 0.8307 - acc: 0.7183 - val_loss: 0.7724 - val_acc: 0.7401\n",
      "Epoch 7/10\n",
      "110288/110288 [==============================] - 10s 91us/step - loss: 0.8011 - acc: 0.7253 - val_loss: 0.8171 - val_acc: 0.7077\n",
      "Epoch 8/10\n",
      "110288/110288 [==============================] - 10s 91us/step - loss: 0.7856 - acc: 0.7265 - val_loss: 0.7967 - val_acc: 0.7230\n",
      "Epoch 9/10\n",
      "110288/110288 [==============================] - 10s 91us/step - loss: 0.7656 - acc: 0.7323 - val_loss: 0.7764 - val_acc: 0.7264\n",
      "Epoch 10/10\n",
      "110288/110288 [==============================] - 10s 91us/step - loss: 0.7415 - acc: 0.7428 - val_loss: 0.6933 - val_acc: 0.7667\n",
      "new jersey est parfois calme en cours et il est chaud en avril <PAD> <PAD> <PAD> <PAD> <PAD> <PAD> <PAD> <PAD>\n"
     ]
    }
   ],
   "source": [
    "def simple_model(input_shape, output_sequence_length, english_vocab_size, french_vocab_size):\n",
    "    \"\"\"\n",
    "    Build and train a basic RNN on x and y\n",
    "    :param input_shape: Tuple of input shape\n",
    "    :param output_sequence_length: Length of output sequence\n",
    "    :param english_vocab_size: Number of unique English words in the dataset\n",
    "    :param french_vocab_size: Number of unique French words in the dataset\n",
    "    :return: Keras model built, but not trained\n",
    "    \"\"\"\n",
    "    # TODO: Build the layers\n",
    "    learning_rate = 0.01\n",
    "    input_sequence = Input(input_shape[1:])\n",
    "    r_n_n = GRU(english_vocab_size, return_sequences=True)(input_sequence)\n",
    "    logits = TimeDistributed(Dense(french_vocab_size))(r_n_n)\n",
    "    \n",
    "    model = Model(input_sequence, Activation('softmax')(logits))\n",
    "    model.compile(loss=sparse_categorical_crossentropy,\n",
    "                  optimizer=Adam(learning_rate),\n",
    "                  metrics=['accuracy'])\n",
    "    return model\n",
    "tests.test_simple_model(simple_model)\n",
    "\n",
    "# Reshaping the input to work with a basic RNN\n",
    "tmp_x = pad(preproc_english_sentences, max_french_sequence_length)\n",
    "tmp_x = tmp_x.reshape((-1, preproc_french_sentences.shape[-2], 1))\n",
    "\n",
    "# Train the neural network\n",
    "simple_rnn_model = simple_model(\n",
    "    tmp_x.shape,\n",
    "    max_french_sequence_length,\n",
    "    english_vocab_size+1,\n",
    "    french_vocab_size+1)\n",
    "simple_rnn_model.fit(tmp_x, preproc_french_sentences, batch_size=1024, epochs=10, validation_split=0.2)\n",
    "\n",
    "# Print prediction(s)\n",
    "print(logits_to_text(simple_rnn_model.predict(tmp_x[:1])[0], french_tokenizer))"
   ]
  },
  {
   "cell_type": "markdown",
   "metadata": {},
   "source": [
    "### Model 2: Embedding (IMPLEMENTATION)\n",
    "![RNN](images/embedding.png)\n",
    "You've turned the words into ids, but there's a better representation of a word.  This is called word embeddings.  An embedding is a vector representation of the word that is close to similar words in n-dimensional space, where the n represents the size of the embedding vectors.\n",
    "\n",
    "In this model, you'll create a RNN model using embedding."
   ]
  },
  {
   "cell_type": "code",
   "execution_count": 13,
   "metadata": {},
   "outputs": [
    {
     "name": "stdout",
     "output_type": "stream",
     "text": [
      "Train on 110288 samples, validate on 27573 samples\n",
      "Epoch 1/10\n",
      "110288/110288 [==============================] - 9s 78us/step - loss: 2.1478 - acc: 0.5566 - val_loss: 0.9573 - val_acc: 0.7434\n",
      "Epoch 2/10\n",
      "110288/110288 [==============================] - 8s 75us/step - loss: 0.6771 - acc: 0.8030 - val_loss: 0.5274 - val_acc: 0.8382\n",
      "Epoch 3/10\n",
      "110288/110288 [==============================] - 8s 76us/step - loss: 0.4534 - acc: 0.8606 - val_loss: 0.4035 - val_acc: 0.8759\n",
      "Epoch 4/10\n",
      "110288/110288 [==============================] - 8s 76us/step - loss: 0.3662 - acc: 0.8871 - val_loss: 0.3397 - val_acc: 0.8951\n",
      "Epoch 5/10\n",
      "110288/110288 [==============================] - 8s 76us/step - loss: 0.3215 - acc: 0.8998 - val_loss: 0.3141 - val_acc: 0.9027\n",
      "Epoch 6/10\n",
      "110288/110288 [==============================] - 8s 76us/step - loss: 0.2962 - acc: 0.9071 - val_loss: 0.2882 - val_acc: 0.9098\n",
      "Epoch 7/10\n",
      "110288/110288 [==============================] - 8s 75us/step - loss: 0.2775 - acc: 0.9125 - val_loss: 0.2752 - val_acc: 0.9129\n",
      "Epoch 8/10\n",
      "110288/110288 [==============================] - 8s 76us/step - loss: 0.2648 - acc: 0.9159 - val_loss: 0.2731 - val_acc: 0.9124\n",
      "Epoch 9/10\n",
      "110288/110288 [==============================] - 8s 75us/step - loss: 0.2573 - acc: 0.9178 - val_loss: 0.2592 - val_acc: 0.9172\n",
      "Epoch 10/10\n",
      "110288/110288 [==============================] - 8s 76us/step - loss: 0.2480 - acc: 0.9201 - val_loss: 0.2502 - val_acc: 0.9204\n",
      "new jersey est parfois calme en l' automne et il est neigeux en avril avril <PAD> <PAD> <PAD> <PAD> <PAD> <PAD>\n"
     ]
    }
   ],
   "source": [
    "def embed_model(input_shape, output_sequence_length, english_vocab_size, french_vocab_size):\n",
    "    \"\"\"\n",
    "    Build and train a RNN model using word embedding on x and y\n",
    "    :param input_shape: Tuple of input shape\n",
    "    :param output_sequence_length: Length of output sequence\n",
    "    :param english_vocab_size: Number of unique English words in the dataset\n",
    "    :param french_vocab_size: Number of unique French words in the dataset\n",
    "    :return: Keras model built, but not trained\n",
    "    \"\"\"\n",
    "    learning_rate = 0.01\n",
    "    embedding_size = 64\n",
    "    \n",
    "    input_sequence = Input(input_shape[1:])\n",
    "    # input_dim, output_dim, input_length\n",
    "    embedded_sequence = Embedding(english_vocab_size,\n",
    "                                 embedding_size,\n",
    "                                 input_length = output_sequence_length)(input_sequence)\n",
    "    \n",
    "    r_n_n = GRU(64, return_sequences=True)(embedded_sequence)\n",
    "    logits = TimeDistributed(Dense(units = french_vocab_size))(r_n_n)\n",
    "    \n",
    "    model = Model(input_sequence, Activation('softmax')(logits))\n",
    "    model.compile(loss = sparse_categorical_crossentropy,\n",
    "                 optimizer = Adam(learning_rate),\n",
    "                 metrics = ['accuracy'])\n",
    "    return model\n",
    "    \n",
    "tests.test_embed_model(embed_model)\n",
    "\n",
    "\n",
    "# TODO: Reshape the input\n",
    "reshape_x = pad(preproc_english_sentences, max_french_sequence_length)\n",
    "# TODO: Train the neural network\n",
    "\n",
    "#input_shape, output_seq\n",
    "embedded_model = embed_model(reshape_x.shape,\n",
    "                            max_french_sequence_length,\n",
    "                            english_vocab_size+1,\n",
    "                            french_vocab_size+1)\n",
    "\n",
    "embedded_model.fit(reshape_x,\n",
    "                   preproc_french_sentences,\n",
    "                   batch_size = 1024,\n",
    "                   epochs = 10,\n",
    "                   validation_split = 0.2)\n",
    "\n",
    "# TODO: Print prediction(s)\n",
    "print(logits_to_text(embedded_model.predict(reshape_x[:1])[0], french_tokenizer))"
   ]
  },
  {
   "cell_type": "markdown",
   "metadata": {},
   "source": [
    "### Model 3: Bidirectional RNNs (IMPLEMENTATION)\n",
    "![RNN](images/bidirectional.png)\n",
    "One restriction of a RNN is that it can't see the future input, only the past.  This is where bidirectional recurrent neural networks come in.  They are able to see the future data."
   ]
  },
  {
   "cell_type": "code",
   "execution_count": 14,
   "metadata": {},
   "outputs": [
    {
     "name": "stdout",
     "output_type": "stream",
     "text": [
      "Train on 110288 samples, validate on 27573 samples\n",
      "Epoch 1/10\n",
      "110288/110288 [==============================] - 12s 105us/step - loss: 1.8397 - acc: 0.5781 - val_loss: 1.3086 - val_acc: 0.6384\n",
      "Epoch 2/10\n",
      "110288/110288 [==============================] - 11s 100us/step - loss: 1.2232 - acc: 0.6532 - val_loss: 1.1559 - val_acc: 0.6651\n",
      "Epoch 3/10\n",
      "110288/110288 [==============================] - 11s 99us/step - loss: 1.1083 - acc: 0.6716 - val_loss: 1.0692 - val_acc: 0.6777\n",
      "Epoch 4/10\n",
      "110288/110288 [==============================] - 11s 101us/step - loss: 1.0474 - acc: 0.6791 - val_loss: 1.0167 - val_acc: 0.6848\n",
      "Epoch 5/10\n",
      "110288/110288 [==============================] - 11s 99us/step - loss: 1.0142 - acc: 0.6835 - val_loss: 0.9910 - val_acc: 0.6879\n",
      "Epoch 6/10\n",
      "110288/110288 [==============================] - 11s 99us/step - loss: 0.9740 - acc: 0.6920 - val_loss: 0.9610 - val_acc: 0.6920\n",
      "Epoch 7/10\n",
      "110288/110288 [==============================] - 11s 99us/step - loss: 0.9490 - acc: 0.6976 - val_loss: 0.9418 - val_acc: 0.7007\n",
      "Epoch 8/10\n",
      "110288/110288 [==============================] - 11s 100us/step - loss: 0.9296 - acc: 0.7037 - val_loss: 0.9197 - val_acc: 0.7059\n",
      "Epoch 9/10\n",
      "110288/110288 [==============================] - 11s 99us/step - loss: 0.9139 - acc: 0.7087 - val_loss: 0.9091 - val_acc: 0.7102\n",
      "Epoch 10/10\n",
      "110288/110288 [==============================] - 11s 100us/step - loss: 0.8963 - acc: 0.7143 - val_loss: 0.8980 - val_acc: 0.7130\n",
      "new jersey est parfois chaud au l' de mai est il est en en <PAD> <PAD> <PAD> <PAD> <PAD> <PAD> <PAD>\n"
     ]
    }
   ],
   "source": [
    "def bd_model(input_shape, output_sequence_length, english_vocab_size, french_vocab_size):\n",
    "    \"\"\"\n",
    "    Build and train a bidirectional RNN model on x and y\n",
    "    :param input_shape: Tuple of input shape\n",
    "    :param output_sequence_length: Length of output sequence\n",
    "    :param english_vocab_size: Number of unique English words in the dataset\n",
    "    :param french_vocab_size: Number of unique French words in the dataset\n",
    "    :return: Keras model built, but not trained\n",
    "    \"\"\"\n",
    "    learning_rate = 0.01\n",
    "    \n",
    "    # initialize Sequential\n",
    "    model = Sequential()\n",
    "    # Bi-Directional RNN\n",
    "    r_n_n = GRU(64, return_sequences=True)# output dim\n",
    "    model.add(Bidirectional(r_n_n, input_shape = input_shape[1:]))\n",
    "    model.add(TimeDistributed(Dense(french_vocab_size)))\n",
    "    model.add(Activation('softmax'))\n",
    "    \n",
    "    model.compile(loss = sparse_categorical_crossentropy,\n",
    "                 optimizer = Adam(learning_rate),\n",
    "                 metrics = ['accuracy'])\n",
    "    return model\n",
    "    \n",
    "tests.test_bd_model(bd_model)\n",
    "\n",
    "\n",
    "# TODO: Train and Print prediction(s)\n",
    "#pad and reshape\n",
    "reshape_x = pad(preproc_english_sentences, max_french_sequence_length)\n",
    "reshape_x = reshape_x.reshape((-1, preproc_french_sentences.shape[-2], 1))\n",
    "\n",
    "# Train the network\n",
    "rnn_bidirectional_model = bd_model(reshape_x.shape,\n",
    "                                  max_french_sequence_length,\n",
    "                                  english_vocab_size+1,\n",
    "                                  french_vocab_size+1)\n",
    "rnn_bidirectional_model.fit(reshape_x,\n",
    "                            preproc_french_sentences,\n",
    "                            batch_size = 1024,\n",
    "                            epochs = 10,\n",
    "                            validation_split = 0.2)\n",
    "\n",
    "# print the prediction\n",
    "print(logits_to_text(rnn_bidirectional_model.predict(reshape_x[:1])[0], french_tokenizer))"
   ]
  },
  {
   "cell_type": "markdown",
   "metadata": {},
   "source": [
    "### Model 4: Encoder-Decoder (OPTIONAL)\n",
    "Time to look at encoder-decoder models.  This model is made up of an encoder and decoder. The encoder creates a matrix representation of the sentence.  The decoder takes this matrix as input and predicts the translation as output.\n",
    "\n",
    "Create an encoder-decoder model in the cell below."
   ]
  },
  {
   "cell_type": "code",
   "execution_count": 15,
   "metadata": {},
   "outputs": [
    {
     "name": "stdout",
     "output_type": "stream",
     "text": [
      "Train on 110288 samples, validate on 27573 samples\n",
      "Epoch 1/10\n",
      "110288/110288 [==============================] - 14s 124us/step - loss: 2.4305 - acc: 0.4689 - val_loss: 2.0118 - val_acc: 0.5000\n",
      "Epoch 2/10\n",
      "110288/110288 [==============================] - 13s 118us/step - loss: 1.7607 - acc: 0.5592 - val_loss: 1.6779 - val_acc: 0.5779\n",
      "Epoch 3/10\n",
      "110288/110288 [==============================] - 13s 119us/step - loss: 1.5359 - acc: 0.5937 - val_loss: 1.4685 - val_acc: 0.6017\n",
      "Epoch 4/10\n",
      "110288/110288 [==============================] - 13s 118us/step - loss: 1.4195 - acc: 0.6122 - val_loss: 1.3935 - val_acc: 0.6091\n",
      "Epoch 5/10\n",
      "110288/110288 [==============================] - 13s 119us/step - loss: 1.3441 - acc: 0.6288 - val_loss: 1.3472 - val_acc: 0.6335\n",
      "Epoch 6/10\n",
      "110288/110288 [==============================] - 13s 118us/step - loss: 1.2709 - acc: 0.6486 - val_loss: 1.2366 - val_acc: 0.6588\n",
      "Epoch 7/10\n",
      "110288/110288 [==============================] - 13s 118us/step - loss: 1.2974 - acc: 0.6392 - val_loss: 1.3112 - val_acc: 0.6325\n",
      "Epoch 8/10\n",
      "110288/110288 [==============================] - 13s 118us/step - loss: 1.2179 - acc: 0.6589 - val_loss: 1.1757 - val_acc: 0.6719\n",
      "Epoch 9/10\n",
      "110288/110288 [==============================] - 13s 118us/step - loss: 1.1693 - acc: 0.6700 - val_loss: 1.1517 - val_acc: 0.6733\n",
      "Epoch 10/10\n",
      "110288/110288 [==============================] - 13s 119us/step - loss: 1.1872 - acc: 0.6623 - val_loss: 1.3404 - val_acc: 0.6239\n",
      "new jersey est généralement agréable en mois et il est est en en <PAD> <PAD> <PAD> <PAD> <PAD> <PAD> <PAD> <PAD>\n"
     ]
    }
   ],
   "source": [
    "def encdec_model(input_shape, output_sequence_length, english_vocab_size, french_vocab_size):\n",
    "    \"\"\"\n",
    "    Build and train an encoder-decoder model on x and y\n",
    "    :param input_shape: Tuple of input shape\n",
    "    :param output_sequence_length: Length of output sequence\n",
    "    :param english_vocab_size: Number of unique English words in the dataset\n",
    "    :param french_vocab_size: Number of unique French words in the dataset\n",
    "    :return: Keras model built, but not trained\n",
    "    \"\"\"\n",
    "    learning_rate = 0.01\n",
    "    \n",
    "    # initialize sequential\n",
    "    model = Sequential()\n",
    "    \n",
    "    # Encoder-Decoder \n",
    "    encoded_rnn = GRU(128, go_backwards=True, input_shape = input_shape[1:])\n",
    "    model.add(encoded_rnn)\n",
    "    model.add(RepeatVector(output_sequence_length))\n",
    "    \n",
    "    # Decoder Model\n",
    "    decoded_rnn = GRU(128, return_sequences=True)\n",
    "    model.add(decoded_rnn)\n",
    "    model.add(TimeDistributed(Dense(french_vocab_size)))\n",
    "    model.add(Activation('softmax'))\n",
    "    \n",
    "    # model compilation\n",
    "    model.compile(loss = sparse_categorical_crossentropy,\n",
    "                 optimizer = Adam(learning_rate),\n",
    "                 metrics = ['accuracy'])\n",
    "    return model\n",
    "    \n",
    "tests.test_encdec_model(encdec_model)\n",
    "\n",
    "\n",
    "# OPTIONAL: Train and Print prediction(s)\n",
    "\n",
    "#pad and reshape\n",
    "reshape_x = pad(preproc_english_sentences, max_french_sequence_length)\n",
    "reshape_x = reshape_x.reshape((-1, preproc_french_sentences.shape[-2], 1))\n",
    "\n",
    "# Train the network\n",
    "encoder_decoder_model = encdec_model(reshape_x.shape,\n",
    "                                  max_french_sequence_length,\n",
    "                                  english_vocab_size+1,\n",
    "                                  french_vocab_size+1)\n",
    "encoder_decoder_model.fit(reshape_x,\n",
    "                            preproc_french_sentences,\n",
    "                            batch_size = 1024,\n",
    "                            epochs = 10,\n",
    "                            validation_split = 0.2)\n",
    "\n",
    "# print the prediction\n",
    "print(logits_to_text(encoder_decoder_model.predict(reshape_x[:1])[0], french_tokenizer))"
   ]
  },
  {
   "cell_type": "markdown",
   "metadata": {},
   "source": [
    "### Model 5: Custom (IMPLEMENTATION)\n",
    "Use everything you learned from the previous models to create a model that incorporates embedding and a bidirectional rnn into one model."
   ]
  },
  {
   "cell_type": "code",
   "execution_count": 19,
   "metadata": {},
   "outputs": [
    {
     "name": "stdout",
     "output_type": "stream",
     "text": [
      "Final Model Loaded\n",
      "Train on 110288 samples, validate on 27573 samples\n",
      "Epoch 1/30\n",
      "110288/110288 [==============================] - 45s 405us/step - loss: 2.6609 - acc: 0.4602 - val_loss: 1.9960 - val_acc: 0.5241\n",
      "Epoch 2/30\n",
      "110288/110288 [==============================] - 43s 390us/step - loss: 1.7906 - acc: 0.5516 - val_loss: 1.6024 - val_acc: 0.5910\n",
      "Epoch 3/30\n",
      "110288/110288 [==============================] - 43s 389us/step - loss: 1.4574 - acc: 0.6160 - val_loss: 1.3281 - val_acc: 0.6435\n",
      "Epoch 4/30\n",
      "110288/110288 [==============================] - 43s 389us/step - loss: 1.2522 - acc: 0.6574 - val_loss: 1.1451 - val_acc: 0.6871\n",
      "Epoch 5/30\n",
      "110288/110288 [==============================] - 43s 390us/step - loss: 1.0830 - acc: 0.6961 - val_loss: 1.0001 - val_acc: 0.7152\n",
      "Epoch 6/30\n",
      "110288/110288 [==============================] - 43s 390us/step - loss: 0.9419 - acc: 0.7292 - val_loss: 0.8992 - val_acc: 0.7393\n",
      "Epoch 7/30\n",
      "110288/110288 [==============================] - 43s 390us/step - loss: 0.8429 - acc: 0.7510 - val_loss: 0.7996 - val_acc: 0.7624\n",
      "Epoch 8/30\n",
      "110288/110288 [==============================] - 43s 390us/step - loss: 0.7403 - acc: 0.7794 - val_loss: 0.6963 - val_acc: 0.7921\n",
      "Epoch 9/30\n",
      "110288/110288 [==============================] - 43s 390us/step - loss: 0.6590 - acc: 0.8030 - val_loss: 0.6491 - val_acc: 0.8065\n",
      "Epoch 10/30\n",
      "110288/110288 [==============================] - 43s 390us/step - loss: 0.6152 - acc: 0.8156 - val_loss: 0.5825 - val_acc: 0.8282\n",
      "Epoch 11/30\n",
      "110288/110288 [==============================] - 43s 390us/step - loss: 0.5433 - acc: 0.8419 - val_loss: 0.5079 - val_acc: 0.8540\n",
      "Epoch 12/30\n",
      "110288/110288 [==============================] - 43s 391us/step - loss: 0.4658 - acc: 0.8672 - val_loss: 0.4443 - val_acc: 0.8737\n",
      "Epoch 13/30\n",
      "110288/110288 [==============================] - 43s 390us/step - loss: 0.5494 - acc: 0.8455 - val_loss: 0.4151 - val_acc: 0.8833\n",
      "Epoch 14/30\n",
      "110288/110288 [==============================] - 43s 390us/step - loss: 0.3697 - acc: 0.8974 - val_loss: 0.3462 - val_acc: 0.9048\n",
      "Epoch 15/30\n",
      "110288/110288 [==============================] - 43s 390us/step - loss: 0.3043 - acc: 0.9189 - val_loss: 0.2887 - val_acc: 0.9245\n",
      "Epoch 16/30\n",
      "110288/110288 [==============================] - 43s 391us/step - loss: 0.2770 - acc: 0.9286 - val_loss: 0.2590 - val_acc: 0.9359\n",
      "Epoch 17/30\n",
      "110288/110288 [==============================] - 43s 390us/step - loss: 0.2218 - acc: 0.9473 - val_loss: 0.2222 - val_acc: 0.9487\n",
      "Epoch 18/30\n",
      "110288/110288 [==============================] - 43s 390us/step - loss: 0.1831 - acc: 0.9585 - val_loss: 0.1785 - val_acc: 0.9592\n",
      "Epoch 19/30\n",
      "110288/110288 [==============================] - 43s 391us/step - loss: 0.1535 - acc: 0.9653 - val_loss: 0.1714 - val_acc: 0.9599\n",
      "Epoch 20/30\n",
      "110288/110288 [==============================] - 43s 391us/step - loss: 0.1423 - acc: 0.9668 - val_loss: 0.1459 - val_acc: 0.9643\n",
      "Epoch 21/30\n",
      "110288/110288 [==============================] - 43s 390us/step - loss: 0.1207 - acc: 0.9711 - val_loss: 0.1259 - val_acc: 0.9693\n",
      "Epoch 22/30\n",
      "110288/110288 [==============================] - 43s 390us/step - loss: 0.1093 - acc: 0.9741 - val_loss: 0.1179 - val_acc: 0.9717\n",
      "Epoch 23/30\n",
      "110288/110288 [==============================] - 43s 390us/step - loss: 0.1073 - acc: 0.9740 - val_loss: 0.1351 - val_acc: 0.9670\n",
      "Epoch 24/30\n",
      "110288/110288 [==============================] - 43s 390us/step - loss: 0.0967 - acc: 0.9761 - val_loss: 0.1048 - val_acc: 0.9745\n",
      "Epoch 25/30\n",
      "110288/110288 [==============================] - 43s 390us/step - loss: 0.0863 - acc: 0.9789 - val_loss: 0.1305 - val_acc: 0.9678\n",
      "Epoch 26/30\n",
      "110288/110288 [==============================] - 43s 390us/step - loss: 0.0881 - acc: 0.9782 - val_loss: 0.1002 - val_acc: 0.9758\n",
      "Epoch 27/30\n",
      "110288/110288 [==============================] - 43s 390us/step - loss: 0.1317 - acc: 0.9651 - val_loss: 0.1575 - val_acc: 0.9587\n",
      "Epoch 28/30\n",
      "110288/110288 [==============================] - 43s 390us/step - loss: 0.1002 - acc: 0.9740 - val_loss: 0.1068 - val_acc: 0.9732\n",
      "Epoch 29/30\n",
      "110288/110288 [==============================] - 43s 390us/step - loss: 0.0776 - acc: 0.9805 - val_loss: 0.1067 - val_acc: 0.9737\n",
      "Epoch 30/30\n",
      "110288/110288 [==============================] - 43s 390us/step - loss: 0.2368 - acc: 0.9370 - val_loss: 0.1689 - val_acc: 0.9604\n",
      "new jersey est parfois calme pendant l' automne et il est neigeux en avril <PAD> <PAD> <PAD> <PAD> <PAD> <PAD> <PAD>\n"
     ]
    }
   ],
   "source": [
    "def model_final(input_shape, output_sequence_length, english_vocab_size, french_vocab_size):\n",
    "    \"\"\"\n",
    "    Build and train a model that incorporates embedding, encoder-decoder, and bidirectional RNN on x and y\n",
    "    :param input_shape: Tuple of input shape\n",
    "    :param output_sequence_length: Length of output sequence\n",
    "    :param english_vocab_size: Number of unique English words in the dataset\n",
    "    :param french_vocab_size: Number of unique French words in the dataset\n",
    "    :return: Keras model built, but not trained\n",
    "    \"\"\"\n",
    "    learning_rate = 0.003\n",
    "    \n",
    "    model = Sequential()\n",
    "    # embeddings\n",
    "    embedding_size = 256\n",
    "    embeddings = Embedding(english_vocab_size,\n",
    "                           embedding_size,\n",
    "                           input_length = input_shape[1],\n",
    "                           input_shape = input_shape[1:])\n",
    "    model.add(embeddings)\n",
    "    \n",
    "    #Bidirectional RNN\n",
    "    r_n_n = GRU(256) #output dim\n",
    "    model.add(Bidirectional(r_n_n))\n",
    "    model.add(RepeatVector(output_sequence_length))\n",
    "    \n",
    "    # Encoder-Decoder \n",
    "    encoded_rnn = GRU(256, go_backwards=True, input_shape = input_shape[1:])\n",
    "    model.add(encoded_rnn)\n",
    "    model.add(RepeatVector(output_sequence_length))\n",
    "    \n",
    "    # Decoder Model\n",
    "    decoded_rnn = GRU(256, return_sequences=True)\n",
    "    model.add(decoded_rnn)\n",
    "    model.add(TimeDistributed(Dense(french_vocab_size)))\n",
    "    model.add(Activation('softmax'))\n",
    "    \n",
    "    model.compile(loss=sparse_categorical_crossentropy,\n",
    "                  optimizer=Adam(learning_rate),\n",
    "                  metrics=['accuracy'])\n",
    "    return model\n",
    "\n",
    "tests.test_model_final(model_final)\n",
    "\n",
    "\n",
    "print('Final Model Loaded')\n",
    "# TODO: Train the final model\n",
    "\n",
    "# OPTIONAL: Train and Print prediction(s)\n",
    "\n",
    "#pad and reshape\n",
    "reshape_x = pad(preproc_english_sentences, max_french_sequence_length)\n",
    "# Train the network\n",
    "final_model = model_final(reshape_x.shape,\n",
    "                                  max_french_sequence_length,\n",
    "                                  english_vocab_size+1,\n",
    "                                  french_vocab_size+1)\n",
    "final_model.fit(reshape_x,\n",
    "                preproc_french_sentences,\n",
    "                batch_size = 1024,\n",
    "                epochs = 30,\n",
    "                validation_split = 0.2)\n",
    "\n",
    "# print the prediction\n",
    "print(logits_to_text(final_model.predict(reshape_x[:1])[0], french_tokenizer))"
   ]
  },
  {
   "cell_type": "markdown",
   "metadata": {},
   "source": [
    "## Prediction (IMPLEMENTATION)"
   ]
  },
  {
   "cell_type": "code",
   "execution_count": 20,
   "metadata": {},
   "outputs": [
    {
     "name": "stdout",
     "output_type": "stream",
     "text": [
      "Train on 110288 samples, validate on 27573 samples\n",
      "Epoch 1/30\n",
      "110288/110288 [==============================] - 40s 362us/step - loss: 2.5071 - acc: 0.4717 - val_loss: 1.8872 - val_acc: 0.5333\n",
      "Epoch 2/30\n",
      "110288/110288 [==============================] - 38s 345us/step - loss: 1.5700 - acc: 0.5936 - val_loss: 1.3913 - val_acc: 0.6270\n",
      "Epoch 3/30\n",
      "110288/110288 [==============================] - 38s 345us/step - loss: 1.2162 - acc: 0.6646 - val_loss: 1.0784 - val_acc: 0.6972\n",
      "Epoch 4/30\n",
      "110288/110288 [==============================] - 38s 345us/step - loss: 0.9781 - acc: 0.7171 - val_loss: 0.8888 - val_acc: 0.7370\n",
      "Epoch 5/30\n",
      "110288/110288 [==============================] - 38s 345us/step - loss: 0.8016 - acc: 0.7605 - val_loss: 0.7302 - val_acc: 0.7814\n",
      "Epoch 6/30\n",
      "110288/110288 [==============================] - 38s 345us/step - loss: 0.6865 - acc: 0.7908 - val_loss: 0.6106 - val_acc: 0.8138\n",
      "Epoch 7/30\n",
      "110288/110288 [==============================] - 38s 345us/step - loss: 0.5404 - acc: 0.8364 - val_loss: 0.4873 - val_acc: 0.8548\n",
      "Epoch 8/30\n",
      "110288/110288 [==============================] - 38s 345us/step - loss: 0.4335 - acc: 0.8715 - val_loss: 0.3951 - val_acc: 0.8876\n",
      "Epoch 9/30\n",
      "110288/110288 [==============================] - 38s 346us/step - loss: 0.3297 - acc: 0.9073 - val_loss: 0.2932 - val_acc: 0.9213\n",
      "Epoch 10/30\n",
      "110288/110288 [==============================] - 38s 346us/step - loss: 0.2391 - acc: 0.9388 - val_loss: 0.2161 - val_acc: 0.9462\n",
      "Epoch 11/30\n",
      "110288/110288 [==============================] - 38s 346us/step - loss: 0.2036 - acc: 0.9480 - val_loss: 0.1978 - val_acc: 0.9505\n",
      "Epoch 12/30\n",
      "110288/110288 [==============================] - 38s 346us/step - loss: 0.1648 - acc: 0.9580 - val_loss: 0.1730 - val_acc: 0.9541\n",
      "Epoch 13/30\n",
      "110288/110288 [==============================] - 38s 345us/step - loss: 0.1315 - acc: 0.9663 - val_loss: 0.1228 - val_acc: 0.9687\n",
      "Epoch 14/30\n",
      "110288/110288 [==============================] - 38s 346us/step - loss: 0.1063 - acc: 0.9727 - val_loss: 0.1184 - val_acc: 0.9693\n",
      "Epoch 15/30\n",
      "110288/110288 [==============================] - 38s 346us/step - loss: 0.0957 - acc: 0.9748 - val_loss: 0.1140 - val_acc: 0.9704\n",
      "Epoch 16/30\n",
      "110288/110288 [==============================] - 38s 346us/step - loss: 0.0885 - acc: 0.9767 - val_loss: 0.1005 - val_acc: 0.9737\n",
      "Epoch 17/30\n",
      "110288/110288 [==============================] - 38s 346us/step - loss: 0.0779 - acc: 0.9794 - val_loss: 0.0985 - val_acc: 0.9742\n",
      "Epoch 18/30\n",
      "110288/110288 [==============================] - 38s 346us/step - loss: 0.1325 - acc: 0.9633 - val_loss: 0.1085 - val_acc: 0.9710\n",
      "Epoch 19/30\n",
      "110288/110288 [==============================] - 38s 346us/step - loss: 0.0791 - acc: 0.9788 - val_loss: 0.0870 - val_acc: 0.9768\n",
      "Epoch 20/30\n",
      "110288/110288 [==============================] - 38s 345us/step - loss: 0.0635 - acc: 0.9831 - val_loss: 0.0840 - val_acc: 0.9777\n",
      "Epoch 21/30\n",
      "110288/110288 [==============================] - 38s 346us/step - loss: 0.0545 - acc: 0.9854 - val_loss: 0.0744 - val_acc: 0.9809\n",
      "Epoch 22/30\n",
      "110288/110288 [==============================] - 38s 346us/step - loss: 0.0531 - acc: 0.9859 - val_loss: 0.0859 - val_acc: 0.9780\n",
      "Epoch 23/30\n",
      "110288/110288 [==============================] - 38s 346us/step - loss: 0.0497 - acc: 0.9868 - val_loss: 0.0924 - val_acc: 0.9750\n",
      "Epoch 24/30\n",
      "110288/110288 [==============================] - 38s 346us/step - loss: 0.0483 - acc: 0.9870 - val_loss: 0.0725 - val_acc: 0.9818\n",
      "Epoch 25/30\n",
      "110288/110288 [==============================] - 38s 346us/step - loss: 0.0568 - acc: 0.9846 - val_loss: 0.1051 - val_acc: 0.9731\n",
      "Epoch 26/30\n",
      "110288/110288 [==============================] - 38s 346us/step - loss: 0.0620 - acc: 0.9830 - val_loss: 0.1016 - val_acc: 0.9741\n",
      "Epoch 27/30\n",
      "110288/110288 [==============================] - 38s 346us/step - loss: 0.0640 - acc: 0.9823 - val_loss: 0.0790 - val_acc: 0.9794\n",
      "Epoch 28/30\n",
      "110288/110288 [==============================] - 38s 346us/step - loss: 0.0430 - acc: 0.9882 - val_loss: 0.0770 - val_acc: 0.9804\n",
      "Epoch 29/30\n",
      "110288/110288 [==============================] - 38s 346us/step - loss: 0.0372 - acc: 0.9899 - val_loss: 0.0782 - val_acc: 0.9812\n",
      "Epoch 30/30\n",
      "110288/110288 [==============================] - 38s 346us/step - loss: 0.0322 - acc: 0.9913 - val_loss: 0.0682 - val_acc: 0.9831\n",
      "Sample 1:\n",
      "il a vu un vieux camion jaune <PAD> <PAD> <PAD> <PAD> <PAD> <PAD> <PAD> <PAD> <PAD> <PAD> <PAD> <PAD> <PAD> <PAD>\n",
      "Il a vu un vieux camion jaune\n",
      "Sample 2:\n",
      "new jersey est parfois calme pendant l' automne et il est neigeux en avril <PAD> <PAD> <PAD> <PAD> <PAD> <PAD> <PAD>\n",
      "new jersey est parfois calme pendant l' automne et il est neigeux en avril <PAD> <PAD> <PAD> <PAD> <PAD> <PAD> <PAD>\n"
     ]
    }
   ],
   "source": [
    "def final_predictions(x, y, x_tk, y_tk):\n",
    "    \"\"\"\n",
    "    Gets predictions using the final model\n",
    "    :param x: Preprocessed English data\n",
    "    :param y: Preprocessed French data\n",
    "    :param x_tk: English tokenizer\n",
    "    :param y_tk: French tokenizer\n",
    "    \"\"\"\n",
    "    # TODO: Train neural network using model_final\n",
    "    model = model_final(input_shape = x.shape,\n",
    "                        output_sequence_length = y.shape[1],\n",
    "                        english_vocab_size = len(x_tk.word_index)+1,\n",
    "                        french_vocab_size = len(y_tk.word_index)+1)\n",
    "    \n",
    "    model.fit(x,\n",
    "              y,\n",
    "              batch_size = 1024,\n",
    "              epochs = 30,\n",
    "              validation_split = 0.2)\n",
    "    \n",
    "    ## DON'T EDIT ANYTHING BELOW THIS LINE\n",
    "    y_id_to_word = {value: key for key, value in y_tk.word_index.items()}\n",
    "    y_id_to_word[0] = '<PAD>'\n",
    "\n",
    "    sentence = 'he saw a old yellow truck'\n",
    "    sentence = [x_tk.word_index[word] for word in sentence.split()]\n",
    "    sentence = pad_sequences([sentence], maxlen=x.shape[-1], padding='post')\n",
    "    sentences = np.array([sentence[0], x[0]])\n",
    "    predictions = model.predict(sentences, len(sentences))\n",
    "\n",
    "    print('Sample 1:')\n",
    "    print(' '.join([y_id_to_word[np.argmax(x)] for x in predictions[0]]))\n",
    "    print('Il a vu un vieux camion jaune')\n",
    "    print('Sample 2:')\n",
    "    print(' '.join([y_id_to_word[np.argmax(x)] for x in predictions[1]]))\n",
    "    print(' '.join([y_id_to_word[np.max(x)] for x in y[0]]))\n",
    "\n",
    "\n",
    "final_predictions(preproc_english_sentences, preproc_french_sentences, english_tokenizer, french_tokenizer)"
   ]
  },
  {
   "cell_type": "markdown",
   "metadata": {},
   "source": [
    "## Submission\n",
    "When you're ready to submit, complete the following steps:\n",
    "1. Review the [rubric](https://review.udacity.com/#!/rubrics/1004/view) to ensure your submission meets all requirements to pass\n",
    "2. Generate an HTML version of this notebook\n",
    "\n",
    "  - Run the next cell to attempt automatic generation (this is the recommended method in Workspaces)\n",
    "  - Navigate to **FILE -> Download as -> HTML (.html)**\n",
    "  - Manually generate a copy using `nbconvert` from your shell terminal\n",
    "```\n",
    "$ pip install nbconvert\n",
    "$ python -m nbconvert machine_translation.ipynb\n",
    "```\n",
    "  \n",
    "3. Submit the project\n",
    "\n",
    "  - If you are in a Workspace, simply click the \"Submit Project\" button (bottom towards the right)\n",
    "  \n",
    "  - Otherwise, add the following files into a zip archive and submit them \n",
    "  - `helper.py`\n",
    "  - `machine_translation.ipynb`\n",
    "  - `machine_translation.html`\n",
    "    - You can export the notebook by navigating to **File -> Download as -> HTML (.html)**."
   ]
  },
  {
   "cell_type": "markdown",
   "metadata": {},
   "source": [
    "### Generate the html\n",
    "\n",
    "**Save your notebook before running the next cell to generate the HTML output.** Then submit your project."
   ]
  },
  {
   "cell_type": "code",
   "execution_count": 21,
   "metadata": {},
   "outputs": [
    {
     "data": {
      "text/plain": [
       "['[NbConvertApp] Converting notebook machine_translation.ipynb to html',\n",
       " '[NbConvertApp] Writing 378792 bytes to machine_translation.html',\n",
       " '[NbConvertApp] Converting notebook machine_translation-zh.ipynb to html',\n",
       " '[NbConvertApp] Writing 328614 bytes to machine_translation-zh.html']"
      ]
     },
     "execution_count": 21,
     "metadata": {},
     "output_type": "execute_result"
    }
   ],
   "source": [
    "# Save before you run this cell!\n",
    "!!jupyter nbconvert *.ipynb"
   ]
  },
  {
   "cell_type": "markdown",
   "metadata": {},
   "source": [
    "## Optional Enhancements\n",
    "\n",
    "This project focuses on learning various network architectures for machine translation, but we don't evaluate the models according to best practices by splitting the data into separate test & training sets -- so the model accuracy is overstated. Use the [`sklearn.model_selection.train_test_split()`](http://scikit-learn.org/stable/modules/generated/sklearn.model_selection.train_test_split.html) function to create separate training & test datasets, then retrain each of the models using only the training set and evaluate the prediction accuracy using the hold out test set. Does the \"best\" model change?"
   ]
  },
  {
   "cell_type": "code",
   "execution_count": null,
   "metadata": {},
   "outputs": [],
   "source": []
  }
 ],
 "metadata": {
  "kernelspec": {
   "display_name": "Python 3",
   "language": "python",
   "name": "python3"
  },
  "language_info": {
   "codemirror_mode": {
    "name": "ipython",
    "version": 3
   },
   "file_extension": ".py",
   "mimetype": "text/x-python",
   "name": "python",
   "nbconvert_exporter": "python",
   "pygments_lexer": "ipython3",
   "version": "3.6.3"
  }
 },
 "nbformat": 4,
 "nbformat_minor": 1
}
